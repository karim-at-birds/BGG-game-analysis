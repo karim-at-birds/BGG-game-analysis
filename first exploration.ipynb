{
 "cells": [
  {
   "attachments": {},
   "cell_type": "markdown",
   "metadata": {},
   "source": [
    "### Potential interesting Questions:\n",
    "- What does influence the rating?\n",
    "    - Does game length ~?\n",
    "    - Do prizes (honors column) ~?\n",
    "\n",
    "rows dropped\n",
    "- accessory rank, because I'm not interested in accessories\n",
    "\n",
    "columns dropped containing  \n",
    "- version\n",
    "- compilation\n",
    "- accessory\n",
    "\n",
    "\n",
    "[Kaggle link](https://www.kaggle.com/datasets/seanthemalloy/board-game-geek-database/)\n",
    "\n",
    "[API description](https://boardgamegeek.com/wiki/page/BGG_XML_API2#toc3)"
   ]
  },
  {
   "cell_type": "code",
   "execution_count": null,
   "metadata": {},
   "outputs": [],
   "source": [
    "import numpy as np\n",
    "import pandas as pd\n",
    "import os\n",
    "from ipywidgets import interact, interactive, fixed, interact_manual\n",
    "import ipywidgets as widgets"
   ]
  },
  {
   "cell_type": "code",
   "execution_count": null,
   "metadata": {},
   "outputs": [],
   "source": [
    "data_folder = \"data\"\n",
    "file = os.path.join(data_folder, \"BGGdata.csv\")"
   ]
  },
  {
   "cell_type": "code",
   "execution_count": null,
   "metadata": {},
   "outputs": [],
   "source": [
    "if os.path.isfile(file):\n",
    "    bgg_df = pd.read_csv(file);\n",
    "else:\n",
    "    os.system(\"unzip \" + file + \".zip -d \" + data_folder)\n",
    "    bgg_df = pd.read_csv(file);"
   ]
  },
  {
   "cell_type": "code",
   "execution_count": null,
   "metadata": {},
   "outputs": [],
   "source": [
    "bgg_df2 = bgg_df.copy()"
   ]
  },
  {
   "cell_type": "code",
   "execution_count": null,
   "metadata": {},
   "outputs": [],
   "source": [
    "def drop_columns(df:pd.DataFrame, search_string:list = None)-> None:\n",
    "    if search_string:\n",
    "        search_string =  search_string if type(search_string) == str else \"(?i)\"+\"|\".join(search_string)\n",
    "        df_temp = df.filter(regex=search_string)\n",
    "        drop_column = df_temp.columns\n",
    "        df.drop(columns=drop_column, inplace = True)\n",
    "        return None\n",
    "\n",
    "    search_string = input(\"filter string:\")\n",
    "    df_temp = df.filter(like=search_string)\n",
    "    drop_column = df_temp.columns #if regex else df.filter(like=search_string).columns\n",
    "    display(drop_column)\n",
    "    \n",
    "    answer = input(\"drop? yes/display/exit/\")\n",
    "\n",
    "    if answer == \"yes\":\n",
    "        df.drop(columns=drop_column, inplace = True)\n",
    "        drop_columns(df)\n",
    "    elif answer == \"display\":\n",
    "        display(df[drop_column].dropna().head())\n",
    "        drop_columns(df)\n",
    "    elif answer == \"exit\":\n",
    "        return None\n",
    "    else:\n",
    "        drop_columns(df)"
   ]
  },
  {
   "cell_type": "code",
   "execution_count": null,
   "metadata": {},
   "outputs": [],
   "source": [
    "# Honor count is more interesting than which honor\n",
    "bgg_df2[\"hon_count\"] = bgg_df.filter(like=\"honor\").count(axis=1)"
   ]
  },
  {
   "cell_type": "code",
   "execution_count": null,
   "metadata": {},
   "outputs": [],
   "source": [
    "bgg_df2.filter(like=\"0\").columns"
   ]
  },
  {
   "cell_type": "code",
   "execution_count": null,
   "metadata": {},
   "outputs": [],
   "source": [
    "#bgg_df[\"categories\"] = \n",
    "categories = {y for y in bgg_df.filter(like=\"category\").values.flatten()}"
   ]
  },
  {
   "cell_type": "code",
   "execution_count": null,
   "metadata": {},
   "outputs": [],
   "source": [
    "mechanics = {y for y in bgg_df.filter(like=\"mechanic\").values.flatten()}\n"
   ]
  },
  {
   "cell_type": "code",
   "execution_count": null,
   "metadata": {},
   "outputs": [],
   "source": [
    "families = {y for y in bgg_df.filter(like=\"family\").values.flatten()}"
   ]
  },
  {
   "cell_type": "code",
   "execution_count": null,
   "metadata": {},
   "outputs": [],
   "source": [
    "subdomains =  {y for y in bgg_df.filter(like=\"subdomain\").values.flatten()}"
   ]
  },
  {
   "cell_type": "code",
   "execution_count": null,
   "metadata": {},
   "outputs": [],
   "source": [
    "len(mechanics)"
   ]
  },
  {
   "cell_type": "code",
   "execution_count": null,
   "metadata": {},
   "outputs": [],
   "source": [
    "# dropping uninteresting columns\n",
    "drop_columns(bgg_df2, [\"version\",\"compilation\",\"accessory\", \"implementation\", \"expansion\", \"thumbnail\",\"commerce\",\"honor\"])"
   ]
  },
  {
   "cell_type": "code",
   "execution_count": null,
   "metadata": {},
   "outputs": [],
   "source": [
    "drop_columns(bgg_df2)"
   ]
  },
  {
   "cell_type": "code",
   "execution_count": null,
   "metadata": {},
   "outputs": [],
   "source": [
    "display(bgg_df2.filter(regex=\"0\").dropna(how=\"all\").columns)\n",
    "bgg_df2.value_counts(subset=\"publisher0\").head(27)"
   ]
  }
 ],
 "metadata": {
  "kernelspec": {
   "display_name": "base",
   "language": "python",
   "name": "python3"
  },
  "language_info": {
   "codemirror_mode": {
    "name": "ipython",
    "version": 3
   },
   "file_extension": ".py",
   "mimetype": "text/x-python",
   "name": "python",
   "nbconvert_exporter": "python",
   "pygments_lexer": "ipython3",
   "version": "3.8.13"
  },
  "orig_nbformat": 4,
  "vscode": {
   "interpreter": {
    "hash": "62b07bb744c13b019c62226781ef93eb02bd3bb919f1c9bc088cba9d0bdc2380"
   }
  }
 },
 "nbformat": 4,
 "nbformat_minor": 2
}
